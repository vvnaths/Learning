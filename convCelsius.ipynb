{
  "nbformat": 4,
  "nbformat_minor": 0,
  "metadata": {
    "colab": {
      "provenance": [],
      "authorship_tag": "ABX9TyOzoQaK/tsfQ1Oze+KpmRmp",
      "include_colab_link": true
    },
    "kernelspec": {
      "name": "python3",
      "display_name": "Python 3"
    },
    "language_info": {
      "name": "python"
    }
  },
  "cells": [
    {
      "cell_type": "markdown",
      "metadata": {
        "id": "view-in-github",
        "colab_type": "text"
      },
      "source": [
        "<a href=\"https://colab.research.google.com/github/vvnaths/Learning/blob/ColabBranch/convCelsius.ipynb\" target=\"_parent\"><img src=\"https://colab.research.google.com/assets/colab-badge.svg\" alt=\"Open In Colab\"/></a>"
      ]
    },
    {
      "cell_type": "code",
      "execution_count": 1,
      "metadata": {
        "colab": {
          "base_uri": "https://localhost:8080/"
        },
        "id": "SJR_KbbbuC6R",
        "outputId": "196da37e-1770-4dc7-c7f9-00c15042b1d6"
      },
      "outputs": [
        {
          "output_type": "stream",
          "name": "stdout",
          "text": [
            "Enter Celsius temperature, 999 to finish:30\n",
            "Temperature in degrees F:  86.0\n",
            "Enter Celsius temperature:100\n",
            "Temperature in degrees F:  212.0\n",
            "Enter Celsius temperature:30\n",
            "Temperature in degrees F:  86.0\n",
            "Enter Celsius temperature:999\n",
            "Goodbye\n"
          ]
        }
      ],
      "source": [
        "#function to convert temperature from Celsius to Fahrenheit\n",
        "\n",
        "\n",
        "\n",
        "def convertToF(cTemp):\n",
        "    fTemp = (cTemp *9/5) + 32\n",
        "    return fTemp\n",
        "\n",
        "#main program\n",
        "celsiusTemp = float(input(\"Enter Celsius temperature, 999 to finish:\"))\n",
        "while celsiusTemp != 999:\n",
        "    temperatureInF = convertToF(celsiusTemp)\n",
        "    print(\"Temperature in degrees F: \", round(temperatureInF,1))\n",
        "    celsiusTemp = float(input(\"Enter Celsius temperature:\"))\n",
        "print (\"Goodbye\")\n",
        "\n"
      ]
    }
  ]
}